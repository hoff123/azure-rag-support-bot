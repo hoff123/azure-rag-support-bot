{
 "cells": [
  {
   "cell_type": "code",
   "execution_count": 1,
   "id": "ee3e98ac",
   "metadata": {},
   "outputs": [],
   "source": [
    "from pathlib import Path\n",
    "from sentence_transformers import SentenceTransformer\n",
    "import chromadb\n",
    "from chromadb.config import Settings\n",
    "from chromadb.utils.embedding_functions import SentenceTransformerEmbeddingFunction"
   ]
  },
  {
   "cell_type": "code",
   "execution_count": 2,
   "id": "9aa1446f",
   "metadata": {},
   "outputs": [],
   "source": [
    "notebook_cwd = Path().resolve()\n",
    "project_root = notebook_cwd.parent\n",
    "target_chroma_dir = project_root / \"chroma_db\"\n",
    "\n",
    "\n",
    "client = chromadb.Client(\n",
    "    Settings(\n",
    "        persist_directory=str(target_chroma_dir) \n",
    "    )\n",
    ")\n",
    "\n",
    "embedder = SentenceTransformerEmbeddingFunction(\"all-MiniLM-L6-v2\")\n",
    "\n",
    "collection = client.get_or_create_collection(\n",
    "    name=\"product_manuals\",\n",
    "    embedding_function=embedder\n",
    ")"
   ]
  },
  {
   "cell_type": "code",
   "execution_count": 3,
   "id": "18678c65",
   "metadata": {},
   "outputs": [
    {
     "name": "stdout",
     "output_type": "stream",
     "text": [
      "Ingestion complete; check the ./chroma_db/ folder.\n"
     ]
    }
   ],
   "source": [
    "docs_folder = Path(\"../data/raw\")\n",
    "\n",
    "for file_path in docs_folder.glob(\"*.md\"):\n",
    "    text = file_path.read_text(encoding=\"utf-8\")\n",
    "    collection.add(\n",
    "        documents=[text],\n",
    "        ids=[file_path.stem],\n",
    "    )\n",
    "\n",
    "print(\"Ingestion complete; check the ./chroma_db/ folder.\")\n"
   ]
  }
 ],
 "metadata": {
  "kernelspec": {
   "display_name": "venv",
   "language": "python",
   "name": "python3"
  },
  "language_info": {
   "codemirror_mode": {
    "name": "ipython",
    "version": 3
   },
   "file_extension": ".py",
   "mimetype": "text/x-python",
   "name": "python",
   "nbconvert_exporter": "python",
   "pygments_lexer": "ipython3",
   "version": "3.11.9"
  }
 },
 "nbformat": 4,
 "nbformat_minor": 5
}
